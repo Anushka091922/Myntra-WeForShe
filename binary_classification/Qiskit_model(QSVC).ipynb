{
  "cells": [
    {
      "cell_type": "code",
      "execution_count": null,
      "metadata": {
        "id": "XMnOAQWX2OvN"
      },
      "outputs": [],
      "source": [
        "import pandas as pd\n",
        "import matplotlib.pyplot as plt\n",
        "import numpy as np\n",
        "from sklearn.model_selection import train_test_split\n",
        "from sklearn.preprocessing import StandardScaler\n",
        "from sklearn.decomposition import PCA\n",
        "from sklearn.preprocessing import MinMaxScaler\n",
        "from sklearn.svm import SVC\n",
        "from sklearn import metrics\n",
        "\n",
        "import functools\n",
        "\n",
        "from qiskit import BasicAer\n",
        "from qiskit.circuit.library import ZZFeatureMap\n",
        "from qiskit.utils import QuantumInstance, algorithm_globals\n",
        "from qiskit_machine_learning.algorithms import QSVC\n",
        "from qiskit_machine_learning.kernels import QuantumKernel\n",
        "from qiskit_machine_learning.datasets import ad_hoc_data\n",
        "import logging\n",
        "from qiskit.aqua import set_qiskit_aqua_logging\n",
        "set_qiskit_aqua_logging(logging.DEBUG)\n"
      ]
    },
    {
      "cell_type": "code",
      "execution_count": null,
      "metadata": {
        "id": "i0iXBduh2OvP"
      },
      "outputs": [],
      "source": [
        "# Read out CSV\n",
        "\n",
        "df = pd.read_csv('synthetic_data.csv', sep=',')"
      ]
    },
    {
      "cell_type": "code",
      "execution_count": null,
      "metadata": {
        "id": "FODYLFdE2OvQ",
        "outputId": "843d11a4-3ae7-41e6-96df-c906d4347e3d"
      },
      "outputs": [
        {
          "data": {
            "text/plain": [
              "<bound method DataFrame.info of        X1        X2        X3        X4        X5        X6        X7  \\\n",
              "0       1  0.031390  0.031390  0.031390  0.031390  0.031390  0.031390   \n",
              "1       1  5.234565  5.234565  5.234565  5.234565  5.234565  5.234565   \n",
              "2       1  9.354209  9.354209  9.354209  9.354209  9.354209  9.354209   \n",
              "3       1 -8.133407 -8.133407 -8.133407 -8.133407 -8.133407 -8.133407   \n",
              "4       1 -5.471547 -5.471547 -5.471547 -5.471547 -5.471547 -5.471547   \n",
              "...    ..       ...       ...       ...       ...       ...       ...   \n",
              "49995   1  6.592156  6.592156  6.592156  6.592156  6.592156  6.592156   \n",
              "49996   1 -7.705122 -7.705122 -7.705122 -7.705122 -7.705122 -7.705122   \n",
              "49997   1  5.117075  5.117075  5.117075  5.117075  5.117075  5.117075   \n",
              "49998   1  0.255174  0.255174  0.255174  0.255174  0.255174  0.255174   \n",
              "49999   1  1.638036  1.638036  1.638036  1.638036  1.638036  1.638036   \n",
              "\n",
              "             X8        X9       X10  y  \n",
              "0      0.031390  0.031390  0.031390  1  \n",
              "1      5.234565  5.234565  5.234565  1  \n",
              "2      9.354209  9.354209  9.354209  1  \n",
              "3     -8.133407 -8.133407 -8.133407  0  \n",
              "4     -5.471547 -5.471547 -5.471547  0  \n",
              "...         ...       ...       ... ..  \n",
              "49995  6.592156  6.592156  6.592156  1  \n",
              "49996 -7.705122 -7.705122 -7.705122  0  \n",
              "49997  5.117075  5.117075  5.117075  1  \n",
              "49998  0.255174  0.255174  0.255174  1  \n",
              "49999  1.638036  1.638036  1.638036  1  \n",
              "\n",
              "[50000 rows x 11 columns]>"
            ]
          },
          "execution_count": 108,
          "metadata": {},
          "output_type": "execute_result"
        }
      ],
      "source": [
        "# Review the information related to the dataframe\n",
        "\n",
        "df.info()"
      ]
    },
    {
      "cell_type": "code",
      "execution_count": null,
      "metadata": {
        "id": "AMcGu_Yl2OvR",
        "outputId": "78c019be-f3a9-4c65-91c6-45019e3b4bfa"
      },
      "outputs": [
        {
          "data": {
            "text/html": [
              "<div>\n",
              "<style scoped>\n",
              "    .dataframe tbody tr th:only-of-type {\n",
              "        vertical-align: middle;\n",
              "    }\n",
              "\n",
              "    .dataframe tbody tr th {\n",
              "        vertical-align: top;\n",
              "    }\n",
              "\n",
              "    .dataframe thead th {\n",
              "        text-align: right;\n",
              "    }\n",
              "</style>\n",
              "<table border=\"1\" class=\"dataframe\">\n",
              "  <thead>\n",
              "    <tr style=\"text-align: right;\">\n",
              "      <th></th>\n",
              "      <th>X1</th>\n",
              "      <th>X2</th>\n",
              "      <th>X3</th>\n",
              "      <th>X4</th>\n",
              "      <th>X5</th>\n",
              "      <th>X6</th>\n",
              "      <th>X7</th>\n",
              "      <th>X8</th>\n",
              "      <th>X9</th>\n",
              "      <th>X10</th>\n",
              "      <th>y</th>\n",
              "    </tr>\n",
              "  </thead>\n",
              "  <tbody>\n",
              "    <tr>\n",
              "      <th>count</th>\n",
              "      <td>50000.0</td>\n",
              "      <td>50000.000000</td>\n",
              "      <td>50000.000000</td>\n",
              "      <td>50000.000000</td>\n",
              "      <td>50000.000000</td>\n",
              "      <td>50000.000000</td>\n",
              "      <td>50000.000000</td>\n",
              "      <td>50000.000000</td>\n",
              "      <td>50000.000000</td>\n",
              "      <td>50000.000000</td>\n",
              "      <td>50000.000000</td>\n",
              "    </tr>\n",
              "    <tr>\n",
              "      <th>mean</th>\n",
              "      <td>1.0</td>\n",
              "      <td>0.028783</td>\n",
              "      <td>0.028783</td>\n",
              "      <td>0.028783</td>\n",
              "      <td>0.028783</td>\n",
              "      <td>0.028783</td>\n",
              "      <td>0.028783</td>\n",
              "      <td>0.028783</td>\n",
              "      <td>0.028783</td>\n",
              "      <td>0.028783</td>\n",
              "      <td>0.478760</td>\n",
              "    </tr>\n",
              "    <tr>\n",
              "      <th>std</th>\n",
              "      <td>0.0</td>\n",
              "      <td>5.761384</td>\n",
              "      <td>5.761384</td>\n",
              "      <td>5.761384</td>\n",
              "      <td>5.761384</td>\n",
              "      <td>5.761384</td>\n",
              "      <td>5.761384</td>\n",
              "      <td>5.761384</td>\n",
              "      <td>5.761384</td>\n",
              "      <td>5.761384</td>\n",
              "      <td>0.499554</td>\n",
              "    </tr>\n",
              "    <tr>\n",
              "      <th>min</th>\n",
              "      <td>1.0</td>\n",
              "      <td>-9.999899</td>\n",
              "      <td>-9.999899</td>\n",
              "      <td>-9.999899</td>\n",
              "      <td>-9.999899</td>\n",
              "      <td>-9.999899</td>\n",
              "      <td>-9.999899</td>\n",
              "      <td>-9.999899</td>\n",
              "      <td>-9.999899</td>\n",
              "      <td>-9.999899</td>\n",
              "      <td>0.000000</td>\n",
              "    </tr>\n",
              "    <tr>\n",
              "      <th>25%</th>\n",
              "      <td>1.0</td>\n",
              "      <td>-4.926806</td>\n",
              "      <td>-4.926806</td>\n",
              "      <td>-4.926806</td>\n",
              "      <td>-4.926806</td>\n",
              "      <td>-4.926806</td>\n",
              "      <td>-4.926806</td>\n",
              "      <td>-4.926806</td>\n",
              "      <td>-4.926806</td>\n",
              "      <td>-4.926806</td>\n",
              "      <td>0.000000</td>\n",
              "    </tr>\n",
              "    <tr>\n",
              "      <th>50%</th>\n",
              "      <td>1.0</td>\n",
              "      <td>0.057610</td>\n",
              "      <td>0.057610</td>\n",
              "      <td>0.057610</td>\n",
              "      <td>0.057610</td>\n",
              "      <td>0.057610</td>\n",
              "      <td>0.057610</td>\n",
              "      <td>0.057610</td>\n",
              "      <td>0.057610</td>\n",
              "      <td>0.057610</td>\n",
              "      <td>0.000000</td>\n",
              "    </tr>\n",
              "    <tr>\n",
              "      <th>75%</th>\n",
              "      <td>1.0</td>\n",
              "      <td>4.996073</td>\n",
              "      <td>4.996073</td>\n",
              "      <td>4.996073</td>\n",
              "      <td>4.996073</td>\n",
              "      <td>4.996073</td>\n",
              "      <td>4.996073</td>\n",
              "      <td>4.996073</td>\n",
              "      <td>4.996073</td>\n",
              "      <td>4.996073</td>\n",
              "      <td>1.000000</td>\n",
              "    </tr>\n",
              "    <tr>\n",
              "      <th>max</th>\n",
              "      <td>1.0</td>\n",
              "      <td>9.999712</td>\n",
              "      <td>9.999712</td>\n",
              "      <td>9.999712</td>\n",
              "      <td>9.999712</td>\n",
              "      <td>9.999712</td>\n",
              "      <td>9.999712</td>\n",
              "      <td>9.999712</td>\n",
              "      <td>9.999712</td>\n",
              "      <td>9.999712</td>\n",
              "      <td>1.000000</td>\n",
              "    </tr>\n",
              "  </tbody>\n",
              "</table>\n",
              "</div>"
            ],
            "text/plain": [
              "            X1            X2            X3            X4            X5  \\\n",
              "count  50000.0  50000.000000  50000.000000  50000.000000  50000.000000   \n",
              "mean       1.0      0.028783      0.028783      0.028783      0.028783   \n",
              "std        0.0      5.761384      5.761384      5.761384      5.761384   \n",
              "min        1.0     -9.999899     -9.999899     -9.999899     -9.999899   \n",
              "25%        1.0     -4.926806     -4.926806     -4.926806     -4.926806   \n",
              "50%        1.0      0.057610      0.057610      0.057610      0.057610   \n",
              "75%        1.0      4.996073      4.996073      4.996073      4.996073   \n",
              "max        1.0      9.999712      9.999712      9.999712      9.999712   \n",
              "\n",
              "                 X6            X7            X8            X9           X10  \\\n",
              "count  50000.000000  50000.000000  50000.000000  50000.000000  50000.000000   \n",
              "mean       0.028783      0.028783      0.028783      0.028783      0.028783   \n",
              "std        5.761384      5.761384      5.761384      5.761384      5.761384   \n",
              "min       -9.999899     -9.999899     -9.999899     -9.999899     -9.999899   \n",
              "25%       -4.926806     -4.926806     -4.926806     -4.926806     -4.926806   \n",
              "50%        0.057610      0.057610      0.057610      0.057610      0.057610   \n",
              "75%        4.996073      4.996073      4.996073      4.996073      4.996073   \n",
              "max        9.999712      9.999712      9.999712      9.999712      9.999712   \n",
              "\n",
              "                  y  \n",
              "count  50000.000000  \n",
              "mean       0.478760  \n",
              "std        0.499554  \n",
              "min        0.000000  \n",
              "25%        0.000000  \n",
              "50%        0.000000  \n",
              "75%        1.000000  \n",
              "max        1.000000  "
            ]
          },
          "execution_count": 109,
          "metadata": {},
          "output_type": "execute_result"
        }
      ],
      "source": [
        "# Table of the description of the dataframe related to fixed parameters\n",
        "\n",
        "df.describe()"
      ]
    },
    {
      "cell_type": "code",
      "execution_count": null,
      "metadata": {
        "id": "qGXdYquE2OvR"
      },
      "outputs": [],
      "source": [
        "# Separation of labels\n",
        "\n",
        "df_labels = df['y']\n",
        "df.drop(['y'],axis = 1,inplace = True)"
      ]
    },
    {
      "cell_type": "code",
      "execution_count": null,
      "metadata": {
        "id": "hv-Ko1-82OvR",
        "outputId": "44b70c43-5ed7-4251-9fba-7d1dc694355f"
      },
      "outputs": [
        {
          "data": {
            "text/plain": [
              "0    1\n",
              "1    1\n",
              "2    1\n",
              "3    0\n",
              "4    0\n",
              "Name: y, dtype: int64"
            ]
          },
          "execution_count": 111,
          "metadata": {},
          "output_type": "execute_result"
        }
      ],
      "source": [
        "df_labels.head()"
      ]
    },
    {
      "cell_type": "code",
      "execution_count": null,
      "metadata": {
        "id": "1senJali2OvS"
      },
      "outputs": [],
      "source": [
        "# Train data definition\n",
        "\n",
        "df_features = df"
      ]
    },
    {
      "cell_type": "code",
      "execution_count": null,
      "metadata": {
        "id": "uDxoeTcV2OvS",
        "outputId": "0b581c21-4278-4920-b5f9-f896b3ce55cc"
      },
      "outputs": [
        {
          "data": {
            "text/html": [
              "<div>\n",
              "<style scoped>\n",
              "    .dataframe tbody tr th:only-of-type {\n",
              "        vertical-align: middle;\n",
              "    }\n",
              "\n",
              "    .dataframe tbody tr th {\n",
              "        vertical-align: top;\n",
              "    }\n",
              "\n",
              "    .dataframe thead th {\n",
              "        text-align: right;\n",
              "    }\n",
              "</style>\n",
              "<table border=\"1\" class=\"dataframe\">\n",
              "  <thead>\n",
              "    <tr style=\"text-align: right;\">\n",
              "      <th></th>\n",
              "      <th>X1</th>\n",
              "      <th>X2</th>\n",
              "      <th>X3</th>\n",
              "      <th>X4</th>\n",
              "      <th>X5</th>\n",
              "      <th>X6</th>\n",
              "      <th>X7</th>\n",
              "      <th>X8</th>\n",
              "      <th>X9</th>\n",
              "      <th>X10</th>\n",
              "    </tr>\n",
              "  </thead>\n",
              "  <tbody>\n",
              "    <tr>\n",
              "      <th>0</th>\n",
              "      <td>1</td>\n",
              "      <td>0.031390</td>\n",
              "      <td>0.031390</td>\n",
              "      <td>0.031390</td>\n",
              "      <td>0.031390</td>\n",
              "      <td>0.031390</td>\n",
              "      <td>0.031390</td>\n",
              "      <td>0.031390</td>\n",
              "      <td>0.031390</td>\n",
              "      <td>0.031390</td>\n",
              "    </tr>\n",
              "    <tr>\n",
              "      <th>1</th>\n",
              "      <td>1</td>\n",
              "      <td>5.234565</td>\n",
              "      <td>5.234565</td>\n",
              "      <td>5.234565</td>\n",
              "      <td>5.234565</td>\n",
              "      <td>5.234565</td>\n",
              "      <td>5.234565</td>\n",
              "      <td>5.234565</td>\n",
              "      <td>5.234565</td>\n",
              "      <td>5.234565</td>\n",
              "    </tr>\n",
              "    <tr>\n",
              "      <th>2</th>\n",
              "      <td>1</td>\n",
              "      <td>9.354209</td>\n",
              "      <td>9.354209</td>\n",
              "      <td>9.354209</td>\n",
              "      <td>9.354209</td>\n",
              "      <td>9.354209</td>\n",
              "      <td>9.354209</td>\n",
              "      <td>9.354209</td>\n",
              "      <td>9.354209</td>\n",
              "      <td>9.354209</td>\n",
              "    </tr>\n",
              "    <tr>\n",
              "      <th>3</th>\n",
              "      <td>1</td>\n",
              "      <td>-8.133407</td>\n",
              "      <td>-8.133407</td>\n",
              "      <td>-8.133407</td>\n",
              "      <td>-8.133407</td>\n",
              "      <td>-8.133407</td>\n",
              "      <td>-8.133407</td>\n",
              "      <td>-8.133407</td>\n",
              "      <td>-8.133407</td>\n",
              "      <td>-8.133407</td>\n",
              "    </tr>\n",
              "    <tr>\n",
              "      <th>4</th>\n",
              "      <td>1</td>\n",
              "      <td>-5.471547</td>\n",
              "      <td>-5.471547</td>\n",
              "      <td>-5.471547</td>\n",
              "      <td>-5.471547</td>\n",
              "      <td>-5.471547</td>\n",
              "      <td>-5.471547</td>\n",
              "      <td>-5.471547</td>\n",
              "      <td>-5.471547</td>\n",
              "      <td>-5.471547</td>\n",
              "    </tr>\n",
              "  </tbody>\n",
              "</table>\n",
              "</div>"
            ],
            "text/plain": [
              "   X1        X2        X3        X4        X5        X6        X7        X8  \\\n",
              "0   1  0.031390  0.031390  0.031390  0.031390  0.031390  0.031390  0.031390   \n",
              "1   1  5.234565  5.234565  5.234565  5.234565  5.234565  5.234565  5.234565   \n",
              "2   1  9.354209  9.354209  9.354209  9.354209  9.354209  9.354209  9.354209   \n",
              "3   1 -8.133407 -8.133407 -8.133407 -8.133407 -8.133407 -8.133407 -8.133407   \n",
              "4   1 -5.471547 -5.471547 -5.471547 -5.471547 -5.471547 -5.471547 -5.471547   \n",
              "\n",
              "         X9       X10  \n",
              "0  0.031390  0.031390  \n",
              "1  5.234565  5.234565  \n",
              "2  9.354209  9.354209  \n",
              "3 -8.133407 -8.133407  \n",
              "4 -5.471547 -5.471547  "
            ]
          },
          "execution_count": 113,
          "metadata": {},
          "output_type": "execute_result"
        }
      ],
      "source": [
        "df_features.head()"
      ]
    },
    {
      "cell_type": "code",
      "execution_count": null,
      "metadata": {
        "id": "ntbTggdo2OvS"
      },
      "outputs": [],
      "source": [
        "# Split dataset into train and test\n",
        "\n",
        "sample_train, sample_test, label_train, label_test = train_test_split(\n",
        "     df_features, df_labels, test_size=0.2, random_state=22)\n",
        "\n",
        "# Reduce dimensions using PCA so later you can fit the dimensions with the qubits\n",
        "\n",
        "n_dim = 2\n",
        "pca = PCA(n_components=n_dim).fit(sample_train)\n",
        "sample_train = pca.transform(sample_train)\n",
        "sample_test = pca.transform(sample_test)\n",
        "\n",
        "# Normalize\n",
        "\n",
        "std_scale = StandardScaler().fit(sample_train)\n",
        "sample_train = std_scale.transform(sample_train)\n",
        "sample_test = std_scale.transform(sample_test)\n",
        "\n",
        "# Scale for better fit within the feature map\n",
        "\n",
        "samples = np.append(sample_train, sample_test, axis=0)\n",
        "minmax_scale = MinMaxScaler((-1, 1)).fit(samples)\n",
        "sample_train = minmax_scale.transform(sample_train)\n",
        "sample_test = minmax_scale.transform(sample_test)\n",
        "\n",
        "# Select a sample for a better control of the research and wall time\n",
        "\n",
        "train_size = 160\n",
        "sample_train = sample_train[:train_size]\n",
        "label_train = label_train[:train_size]\n",
        "\n",
        "test_size = 40\n",
        "sample_test = sample_test[:test_size]\n",
        "label_test = label_test[:test_size]"
      ]
    },
    {
      "cell_type": "code",
      "execution_count": null,
      "metadata": {
        "id": "DeLqf8hX2OvT",
        "outputId": "3158d1cd-29fa-47bf-e3c8-b0b316b24a49"
      },
      "outputs": [
        {
          "data": {
            "text/plain": [
              "1    53.75\n",
              "0    46.25\n",
              "Name: y, dtype: float64"
            ]
          },
          "execution_count": 115,
          "metadata": {},
          "output_type": "execute_result"
        }
      ],
      "source": [
        "# Review the balance of the target variable in train\n",
        "\n",
        "label_train.value_counts(normalize=True)*100"
      ]
    },
    {
      "cell_type": "code",
      "execution_count": null,
      "metadata": {
        "id": "dCoLn5Kw2OvT",
        "outputId": "15a49cd7-a247-4827-d42d-3746bad584c0"
      },
      "outputs": [
        {
          "data": {
            "text/plain": [
              "1    52.5\n",
              "0    47.5\n",
              "Name: y, dtype: float64"
            ]
          },
          "execution_count": 116,
          "metadata": {},
          "output_type": "execute_result"
        }
      ],
      "source": [
        "# Review the balance of the target variable in test\n",
        "\n",
        "label_test.value_counts(normalize=True)*100"
      ]
    },
    {
      "cell_type": "code",
      "execution_count": null,
      "metadata": {
        "id": "qQoFYEHI2OvT"
      },
      "outputs": [],
      "source": [
        "# Basic parameters for hybrid model\n",
        "\n",
        "seed = 8500\n",
        "feature_dim = n_dim"
      ]
    },
    {
      "cell_type": "code",
      "execution_count": null,
      "metadata": {
        "id": "SYufqXI42OvT",
        "outputId": "ebb850ff-4988-46cd-dde1-287b93f813dc"
      },
      "outputs": [
        {
          "name": "stdout",
          "output_type": "stream",
          "text": [
            "Callable kernel classification test score: 0.925\n"
          ]
        }
      ],
      "source": [
        "# Define feature_map\n",
        "\n",
        "feature_map = ZZFeatureMap(feature_dimension=feature_dim, reps=2)\n",
        "\n",
        "# Define the backend\n",
        "backend = QuantumInstance(\n",
        "    BasicAer.get_backend(\"qasm_simulator\"), shots=256, seed_simulator=seed, seed_transpiler=seed\n",
        ")\n",
        "\n",
        "# Define the kernel\n",
        "\n",
        "kernel = QuantumKernel(feature_map=feature_map, quantum_instance=backend)\n",
        "\n",
        "# Model run\n",
        "svc = SVC(kernel=kernel.evaluate)\n",
        "svc.fit(sample_train, label_train)\n",
        "score = svc.score(sample_test, label_test)\n",
        "\n",
        "print(f\"Callable kernel classification test score: {score}\")"
      ]
    },
    {
      "cell_type": "code",
      "execution_count": null,
      "metadata": {
        "id": "fZnSaAy-2OvT"
      },
      "outputs": [],
      "source": [
        "result_predict = svc.predict(sample_test)"
      ]
    },
    {
      "cell_type": "code",
      "execution_count": null,
      "metadata": {
        "id": "QADHG72w2OvU",
        "outputId": "52937d3c-4ca1-4bf9-ffbb-5ab571093e88"
      },
      "outputs": [
        {
          "name": "stdout",
          "output_type": "stream",
          "text": [
            "              precision    recall  f1-score   support\n",
            "\n",
            "           0       0.94      0.89      0.92        19\n",
            "           1       0.91      0.95      0.93        21\n",
            "\n",
            "    accuracy                           0.93        40\n",
            "   macro avg       0.93      0.92      0.92        40\n",
            "weighted avg       0.93      0.93      0.92        40\n",
            "\n",
            "0.9090909090909091\n",
            "0.9523809523809523\n",
            "0.9302325581395349\n",
            "0.9235588972431077\n"
          ]
        }
      ],
      "source": [
        "# Print the classification report and important metrics\n",
        "\n",
        "print(metrics.classification_report(label_test,result_predict))\n",
        "print(metrics.precision_score(label_test,result_predict))\n",
        "print(metrics.recall_score(label_test,result_predict))\n",
        "print(metrics.f1_score(label_test,result_predict))\n",
        "print(metrics.balanced_accuracy_score(label_test,result_predict))"
      ]
    }
  ],
  "metadata": {
    "interpreter": {
      "hash": "09a2343d96e4209a5eb8971e1e9a0248c4f95d560a06ad86d050590524a525f8"
    },
    "kernelspec": {
      "display_name": "Python 3.9.12 ('qkt-tookit')",
      "language": "python",
      "name": "python3"
    },
    "language_info": {
      "codemirror_mode": {
        "name": "ipython",
        "version": 3
      },
      "file_extension": ".py",
      "mimetype": "text/x-python",
      "name": "python",
      "nbconvert_exporter": "python",
      "pygments_lexer": "ipython3",
      "version": "3.9.12"
    },
    "orig_nbformat": 4,
    "colab": {
      "provenance": []
    }
  },
  "nbformat": 4,
  "nbformat_minor": 0
}