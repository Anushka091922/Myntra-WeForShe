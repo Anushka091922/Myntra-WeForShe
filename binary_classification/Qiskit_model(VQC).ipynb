{
  "cells": [
    {
      "cell_type": "code",
      "execution_count": null,
      "metadata": {
        "id": "yDL8DBT92Cwd"
      },
      "outputs": [],
      "source": [
        "from qiskit import  Aer\n",
        "from qiskit.utils import QuantumInstance, algorithm_globals\n",
        "from qiskit.aqua.algorithms import VQC\n",
        "from qiskit.algorithms.optimizers import COBYLA\n",
        "from qiskit.aqua.utils import  map_label_to_class_name\n",
        "from qiskit.circuit.library import TwoLocal, ZZFeatureMap\n",
        "from qiskit.circuit.library import ZZFeatureMap\n",
        "import logging\n",
        "from qiskit.aqua import set_qiskit_aqua_logging\n",
        "set_qiskit_aqua_logging(logging.DEBUG)\n",
        "\n",
        "import pandas as pd\n",
        "import numpy as np\n",
        "from math import *\n",
        "from sklearn.metrics import *\n",
        "\n",
        "from sklearn.decomposition import PCA\n",
        "from sklearn.preprocessing import StandardScaler\n",
        "from sklearn import metrics\n",
        "from sklearn.model_selection import train_test_split\n",
        "from sklearn.preprocessing import MinMaxScaler"
      ]
    },
    {
      "cell_type": "code",
      "execution_count": null,
      "metadata": {
        "id": "lWaBtPfG2Cwg"
      },
      "outputs": [],
      "source": [
        "# Read out CSV\n",
        "\n",
        "df = pd.read_csv('synthetic_data.csv', sep=',')"
      ]
    },
    {
      "cell_type": "code",
      "execution_count": null,
      "metadata": {
        "id": "DaTJ0KAf2Cwh",
        "outputId": "3610a910-5c50-4ac8-f67d-1cc0c5282723"
      },
      "outputs": [
        {
          "data": {
            "text/plain": [
              "<bound method DataFrame.info of        X1        X2        X3        X4        X5        X6        X7  \\\n",
              "0       1  0.031390  0.031390  0.031390  0.031390  0.031390  0.031390   \n",
              "1       1  5.234565  5.234565  5.234565  5.234565  5.234565  5.234565   \n",
              "2       1  9.354209  9.354209  9.354209  9.354209  9.354209  9.354209   \n",
              "3       1 -8.133407 -8.133407 -8.133407 -8.133407 -8.133407 -8.133407   \n",
              "4       1 -5.471547 -5.471547 -5.471547 -5.471547 -5.471547 -5.471547   \n",
              "...    ..       ...       ...       ...       ...       ...       ...   \n",
              "49995   1  6.592156  6.592156  6.592156  6.592156  6.592156  6.592156   \n",
              "49996   1 -7.705122 -7.705122 -7.705122 -7.705122 -7.705122 -7.705122   \n",
              "49997   1  5.117075  5.117075  5.117075  5.117075  5.117075  5.117075   \n",
              "49998   1  0.255174  0.255174  0.255174  0.255174  0.255174  0.255174   \n",
              "49999   1  1.638036  1.638036  1.638036  1.638036  1.638036  1.638036   \n",
              "\n",
              "             X8        X9       X10  y  \n",
              "0      0.031390  0.031390  0.031390  1  \n",
              "1      5.234565  5.234565  5.234565  1  \n",
              "2      9.354209  9.354209  9.354209  1  \n",
              "3     -8.133407 -8.133407 -8.133407  0  \n",
              "4     -5.471547 -5.471547 -5.471547  0  \n",
              "...         ...       ...       ... ..  \n",
              "49995  6.592156  6.592156  6.592156  1  \n",
              "49996 -7.705122 -7.705122 -7.705122  0  \n",
              "49997  5.117075  5.117075  5.117075  1  \n",
              "49998  0.255174  0.255174  0.255174  1  \n",
              "49999  1.638036  1.638036  1.638036  1  \n",
              "\n",
              "[50000 rows x 11 columns]>"
            ]
          },
          "execution_count": 226,
          "metadata": {},
          "output_type": "execute_result"
        }
      ],
      "source": [
        "# Review the information related to the dataframe\n",
        "\n",
        "df.info()"
      ]
    },
    {
      "cell_type": "code",
      "execution_count": null,
      "metadata": {
        "id": "rilT1WmJ2Cwi",
        "outputId": "4377576e-bee2-428e-f267-cfe82eb0c4cc"
      },
      "outputs": [
        {
          "data": {
            "text/html": [
              "<div>\n",
              "<style scoped>\n",
              "    .dataframe tbody tr th:only-of-type {\n",
              "        vertical-align: middle;\n",
              "    }\n",
              "\n",
              "    .dataframe tbody tr th {\n",
              "        vertical-align: top;\n",
              "    }\n",
              "\n",
              "    .dataframe thead th {\n",
              "        text-align: right;\n",
              "    }\n",
              "</style>\n",
              "<table border=\"1\" class=\"dataframe\">\n",
              "  <thead>\n",
              "    <tr style=\"text-align: right;\">\n",
              "      <th></th>\n",
              "      <th>X1</th>\n",
              "      <th>X2</th>\n",
              "      <th>X3</th>\n",
              "      <th>X4</th>\n",
              "      <th>X5</th>\n",
              "      <th>X6</th>\n",
              "      <th>X7</th>\n",
              "      <th>X8</th>\n",
              "      <th>X9</th>\n",
              "      <th>X10</th>\n",
              "      <th>y</th>\n",
              "    </tr>\n",
              "  </thead>\n",
              "  <tbody>\n",
              "    <tr>\n",
              "      <th>count</th>\n",
              "      <td>50000.0</td>\n",
              "      <td>50000.000000</td>\n",
              "      <td>50000.000000</td>\n",
              "      <td>50000.000000</td>\n",
              "      <td>50000.000000</td>\n",
              "      <td>50000.000000</td>\n",
              "      <td>50000.000000</td>\n",
              "      <td>50000.000000</td>\n",
              "      <td>50000.000000</td>\n",
              "      <td>50000.000000</td>\n",
              "      <td>50000.000000</td>\n",
              "    </tr>\n",
              "    <tr>\n",
              "      <th>mean</th>\n",
              "      <td>1.0</td>\n",
              "      <td>0.028783</td>\n",
              "      <td>0.028783</td>\n",
              "      <td>0.028783</td>\n",
              "      <td>0.028783</td>\n",
              "      <td>0.028783</td>\n",
              "      <td>0.028783</td>\n",
              "      <td>0.028783</td>\n",
              "      <td>0.028783</td>\n",
              "      <td>0.028783</td>\n",
              "      <td>0.478760</td>\n",
              "    </tr>\n",
              "    <tr>\n",
              "      <th>std</th>\n",
              "      <td>0.0</td>\n",
              "      <td>5.761384</td>\n",
              "      <td>5.761384</td>\n",
              "      <td>5.761384</td>\n",
              "      <td>5.761384</td>\n",
              "      <td>5.761384</td>\n",
              "      <td>5.761384</td>\n",
              "      <td>5.761384</td>\n",
              "      <td>5.761384</td>\n",
              "      <td>5.761384</td>\n",
              "      <td>0.499554</td>\n",
              "    </tr>\n",
              "    <tr>\n",
              "      <th>min</th>\n",
              "      <td>1.0</td>\n",
              "      <td>-9.999899</td>\n",
              "      <td>-9.999899</td>\n",
              "      <td>-9.999899</td>\n",
              "      <td>-9.999899</td>\n",
              "      <td>-9.999899</td>\n",
              "      <td>-9.999899</td>\n",
              "      <td>-9.999899</td>\n",
              "      <td>-9.999899</td>\n",
              "      <td>-9.999899</td>\n",
              "      <td>0.000000</td>\n",
              "    </tr>\n",
              "    <tr>\n",
              "      <th>25%</th>\n",
              "      <td>1.0</td>\n",
              "      <td>-4.926806</td>\n",
              "      <td>-4.926806</td>\n",
              "      <td>-4.926806</td>\n",
              "      <td>-4.926806</td>\n",
              "      <td>-4.926806</td>\n",
              "      <td>-4.926806</td>\n",
              "      <td>-4.926806</td>\n",
              "      <td>-4.926806</td>\n",
              "      <td>-4.926806</td>\n",
              "      <td>0.000000</td>\n",
              "    </tr>\n",
              "    <tr>\n",
              "      <th>50%</th>\n",
              "      <td>1.0</td>\n",
              "      <td>0.057610</td>\n",
              "      <td>0.057610</td>\n",
              "      <td>0.057610</td>\n",
              "      <td>0.057610</td>\n",
              "      <td>0.057610</td>\n",
              "      <td>0.057610</td>\n",
              "      <td>0.057610</td>\n",
              "      <td>0.057610</td>\n",
              "      <td>0.057610</td>\n",
              "      <td>0.000000</td>\n",
              "    </tr>\n",
              "    <tr>\n",
              "      <th>75%</th>\n",
              "      <td>1.0</td>\n",
              "      <td>4.996073</td>\n",
              "      <td>4.996073</td>\n",
              "      <td>4.996073</td>\n",
              "      <td>4.996073</td>\n",
              "      <td>4.996073</td>\n",
              "      <td>4.996073</td>\n",
              "      <td>4.996073</td>\n",
              "      <td>4.996073</td>\n",
              "      <td>4.996073</td>\n",
              "      <td>1.000000</td>\n",
              "    </tr>\n",
              "    <tr>\n",
              "      <th>max</th>\n",
              "      <td>1.0</td>\n",
              "      <td>9.999712</td>\n",
              "      <td>9.999712</td>\n",
              "      <td>9.999712</td>\n",
              "      <td>9.999712</td>\n",
              "      <td>9.999712</td>\n",
              "      <td>9.999712</td>\n",
              "      <td>9.999712</td>\n",
              "      <td>9.999712</td>\n",
              "      <td>9.999712</td>\n",
              "      <td>1.000000</td>\n",
              "    </tr>\n",
              "  </tbody>\n",
              "</table>\n",
              "</div>"
            ],
            "text/plain": [
              "            X1            X2            X3            X4            X5  \\\n",
              "count  50000.0  50000.000000  50000.000000  50000.000000  50000.000000   \n",
              "mean       1.0      0.028783      0.028783      0.028783      0.028783   \n",
              "std        0.0      5.761384      5.761384      5.761384      5.761384   \n",
              "min        1.0     -9.999899     -9.999899     -9.999899     -9.999899   \n",
              "25%        1.0     -4.926806     -4.926806     -4.926806     -4.926806   \n",
              "50%        1.0      0.057610      0.057610      0.057610      0.057610   \n",
              "75%        1.0      4.996073      4.996073      4.996073      4.996073   \n",
              "max        1.0      9.999712      9.999712      9.999712      9.999712   \n",
              "\n",
              "                 X6            X7            X8            X9           X10  \\\n",
              "count  50000.000000  50000.000000  50000.000000  50000.000000  50000.000000   \n",
              "mean       0.028783      0.028783      0.028783      0.028783      0.028783   \n",
              "std        5.761384      5.761384      5.761384      5.761384      5.761384   \n",
              "min       -9.999899     -9.999899     -9.999899     -9.999899     -9.999899   \n",
              "25%       -4.926806     -4.926806     -4.926806     -4.926806     -4.926806   \n",
              "50%        0.057610      0.057610      0.057610      0.057610      0.057610   \n",
              "75%        4.996073      4.996073      4.996073      4.996073      4.996073   \n",
              "max        9.999712      9.999712      9.999712      9.999712      9.999712   \n",
              "\n",
              "                  y  \n",
              "count  50000.000000  \n",
              "mean       0.478760  \n",
              "std        0.499554  \n",
              "min        0.000000  \n",
              "25%        0.000000  \n",
              "50%        0.000000  \n",
              "75%        1.000000  \n",
              "max        1.000000  "
            ]
          },
          "execution_count": 227,
          "metadata": {},
          "output_type": "execute_result"
        }
      ],
      "source": [
        "# Table of the description of the dataframe related to fixed parameters\n",
        "\n",
        "df.describe()"
      ]
    },
    {
      "cell_type": "code",
      "execution_count": null,
      "metadata": {
        "id": "cnTp-rOC2Cwi"
      },
      "outputs": [],
      "source": [
        "# Separation of labels\n",
        "\n",
        "df_labels = df['y']\n",
        "df.drop(['y'],axis = 1,inplace = True)"
      ]
    },
    {
      "cell_type": "code",
      "execution_count": null,
      "metadata": {
        "id": "wf4SJE282Cwj",
        "outputId": "262d0a63-be53-4789-88a4-1a5a87768c30"
      },
      "outputs": [
        {
          "data": {
            "text/plain": [
              "0    1\n",
              "1    1\n",
              "2    1\n",
              "3    0\n",
              "4    0\n",
              "Name: y, dtype: int64"
            ]
          },
          "execution_count": 229,
          "metadata": {},
          "output_type": "execute_result"
        }
      ],
      "source": [
        "df_labels.head()"
      ]
    },
    {
      "cell_type": "code",
      "execution_count": null,
      "metadata": {
        "id": "Y_f3dtQk2Cwj"
      },
      "outputs": [],
      "source": [
        "# Train data definition\n",
        "\n",
        "df_features = df"
      ]
    },
    {
      "cell_type": "code",
      "execution_count": null,
      "metadata": {
        "id": "m0VTy8Uq2Cwj",
        "outputId": "450000b4-e4b1-4830-ff0e-ba8691900efa"
      },
      "outputs": [
        {
          "data": {
            "text/html": [
              "<div>\n",
              "<style scoped>\n",
              "    .dataframe tbody tr th:only-of-type {\n",
              "        vertical-align: middle;\n",
              "    }\n",
              "\n",
              "    .dataframe tbody tr th {\n",
              "        vertical-align: top;\n",
              "    }\n",
              "\n",
              "    .dataframe thead th {\n",
              "        text-align: right;\n",
              "    }\n",
              "</style>\n",
              "<table border=\"1\" class=\"dataframe\">\n",
              "  <thead>\n",
              "    <tr style=\"text-align: right;\">\n",
              "      <th></th>\n",
              "      <th>X1</th>\n",
              "      <th>X2</th>\n",
              "      <th>X3</th>\n",
              "      <th>X4</th>\n",
              "      <th>X5</th>\n",
              "      <th>X6</th>\n",
              "      <th>X7</th>\n",
              "      <th>X8</th>\n",
              "      <th>X9</th>\n",
              "      <th>X10</th>\n",
              "    </tr>\n",
              "  </thead>\n",
              "  <tbody>\n",
              "    <tr>\n",
              "      <th>0</th>\n",
              "      <td>1</td>\n",
              "      <td>0.031390</td>\n",
              "      <td>0.031390</td>\n",
              "      <td>0.031390</td>\n",
              "      <td>0.031390</td>\n",
              "      <td>0.031390</td>\n",
              "      <td>0.031390</td>\n",
              "      <td>0.031390</td>\n",
              "      <td>0.031390</td>\n",
              "      <td>0.031390</td>\n",
              "    </tr>\n",
              "    <tr>\n",
              "      <th>1</th>\n",
              "      <td>1</td>\n",
              "      <td>5.234565</td>\n",
              "      <td>5.234565</td>\n",
              "      <td>5.234565</td>\n",
              "      <td>5.234565</td>\n",
              "      <td>5.234565</td>\n",
              "      <td>5.234565</td>\n",
              "      <td>5.234565</td>\n",
              "      <td>5.234565</td>\n",
              "      <td>5.234565</td>\n",
              "    </tr>\n",
              "    <tr>\n",
              "      <th>2</th>\n",
              "      <td>1</td>\n",
              "      <td>9.354209</td>\n",
              "      <td>9.354209</td>\n",
              "      <td>9.354209</td>\n",
              "      <td>9.354209</td>\n",
              "      <td>9.354209</td>\n",
              "      <td>9.354209</td>\n",
              "      <td>9.354209</td>\n",
              "      <td>9.354209</td>\n",
              "      <td>9.354209</td>\n",
              "    </tr>\n",
              "    <tr>\n",
              "      <th>3</th>\n",
              "      <td>1</td>\n",
              "      <td>-8.133407</td>\n",
              "      <td>-8.133407</td>\n",
              "      <td>-8.133407</td>\n",
              "      <td>-8.133407</td>\n",
              "      <td>-8.133407</td>\n",
              "      <td>-8.133407</td>\n",
              "      <td>-8.133407</td>\n",
              "      <td>-8.133407</td>\n",
              "      <td>-8.133407</td>\n",
              "    </tr>\n",
              "    <tr>\n",
              "      <th>4</th>\n",
              "      <td>1</td>\n",
              "      <td>-5.471547</td>\n",
              "      <td>-5.471547</td>\n",
              "      <td>-5.471547</td>\n",
              "      <td>-5.471547</td>\n",
              "      <td>-5.471547</td>\n",
              "      <td>-5.471547</td>\n",
              "      <td>-5.471547</td>\n",
              "      <td>-5.471547</td>\n",
              "      <td>-5.471547</td>\n",
              "    </tr>\n",
              "  </tbody>\n",
              "</table>\n",
              "</div>"
            ],
            "text/plain": [
              "   X1        X2        X3        X4        X5        X6        X7        X8  \\\n",
              "0   1  0.031390  0.031390  0.031390  0.031390  0.031390  0.031390  0.031390   \n",
              "1   1  5.234565  5.234565  5.234565  5.234565  5.234565  5.234565  5.234565   \n",
              "2   1  9.354209  9.354209  9.354209  9.354209  9.354209  9.354209  9.354209   \n",
              "3   1 -8.133407 -8.133407 -8.133407 -8.133407 -8.133407 -8.133407 -8.133407   \n",
              "4   1 -5.471547 -5.471547 -5.471547 -5.471547 -5.471547 -5.471547 -5.471547   \n",
              "\n",
              "         X9       X10  \n",
              "0  0.031390  0.031390  \n",
              "1  5.234565  5.234565  \n",
              "2  9.354209  9.354209  \n",
              "3 -8.133407 -8.133407  \n",
              "4 -5.471547 -5.471547  "
            ]
          },
          "execution_count": 231,
          "metadata": {},
          "output_type": "execute_result"
        }
      ],
      "source": [
        "df_features.head()"
      ]
    },
    {
      "cell_type": "code",
      "execution_count": null,
      "metadata": {
        "id": "Nd5feUhl2Cwj"
      },
      "outputs": [],
      "source": [
        "# Split dataset into train and test\n",
        "\n",
        "sample_train, sample_test, label_train, label_test = train_test_split(\n",
        "     df_features, df_labels, test_size=0.2, random_state=22)\n",
        "\n",
        "# Reduce dimensions using PCA so later you can fit the dimensions with the qubits\n",
        "\n",
        "n_dim = 2\n",
        "pca = PCA(n_components=n_dim).fit(sample_train)\n",
        "sample_train = pca.transform(sample_train)\n",
        "sample_test = pca.transform(sample_test)\n",
        "\n",
        "# Normalize\n",
        "\n",
        "std_scale = StandardScaler().fit(sample_train)\n",
        "sample_train = std_scale.transform(sample_train)\n",
        "sample_test = std_scale.transform(sample_test)\n",
        "\n",
        "# Scale for better fit within the feature map\n",
        "\n",
        "samples = np.append(sample_train, sample_test, axis=0)\n",
        "minmax_scale = MinMaxScaler((-1, 1)).fit(samples)\n",
        "sample_train = minmax_scale.transform(sample_train)\n",
        "sample_test = minmax_scale.transform(sample_test)\n",
        "\n",
        "# Select a sample for a better control of the research and wall time\n",
        "\n",
        "train_size = 160\n",
        "sample_train = sample_train[:train_size]\n",
        "label_train = label_train[:train_size]\n",
        "\n",
        "test_size = 40\n",
        "sample_test = sample_test[:test_size]\n",
        "label_test = label_test[:test_size]"
      ]
    },
    {
      "cell_type": "code",
      "execution_count": null,
      "metadata": {
        "id": "cf-qhkKH2Cwk",
        "outputId": "279ece3d-33ca-4447-a5ed-8c11f0a2ee5e"
      },
      "outputs": [
        {
          "data": {
            "text/plain": [
              "1    53.75\n",
              "0    46.25\n",
              "Name: y, dtype: float64"
            ]
          },
          "execution_count": 233,
          "metadata": {},
          "output_type": "execute_result"
        }
      ],
      "source": [
        "# Review the balance of the target variable in train\n",
        "\n",
        "label_train.value_counts(normalize=True)*100"
      ]
    },
    {
      "cell_type": "code",
      "execution_count": null,
      "metadata": {
        "id": "EBa_ZbmJ2Cwk",
        "outputId": "dcd3cd5b-cef9-4431-bafe-9c38175f93dc"
      },
      "outputs": [
        {
          "data": {
            "text/plain": [
              "1    52.5\n",
              "0    47.5\n",
              "Name: y, dtype: float64"
            ]
          },
          "execution_count": 234,
          "metadata": {},
          "output_type": "execute_result"
        }
      ],
      "source": [
        "# Review the balance of the target variable in test\n",
        "\n",
        "label_test.value_counts(normalize=True)*100"
      ]
    },
    {
      "cell_type": "code",
      "execution_count": null,
      "metadata": {
        "id": "8Xk1k0152Cwl"
      },
      "outputs": [],
      "source": [
        "# Train and test definition for further comparison\n",
        "zero_train_input = sample_train[label_train == 0]\n",
        "one_train_input = sample_train[label_train == 1]\n",
        "zero_train = zero_train_input\n",
        "one_train = one_train_input\n",
        "\n",
        "training_input = {0:zero_train,1:one_train}\n",
        "\n",
        "zero_test_input = sample_test[label_test == 0]\n",
        "one_test_input = sample_test[label_test == 1]\n",
        "zero_test = zero_test_input\n",
        "one_test = one_test_input\n",
        "\n",
        "test_input = {0:zero_test, 1:one_test}\n",
        "\n",
        "datapoints = []\n",
        "datapoints.append(np.concatenate((zero_test, one_test)))\n",
        "dp_y = np.append(np.zeros(zero_test.shape[0]),np.ones(one_test.shape[0]))\n",
        "datapoints.append(dp_y)"
      ]
    },
    {
      "cell_type": "code",
      "execution_count": null,
      "metadata": {
        "id": "1tCto4Ar2Cwl"
      },
      "outputs": [],
      "source": [
        "# Basic parameters for hybrid model\n",
        "\n",
        "seed = 8500\n",
        "feature_dim = n_dim"
      ]
    },
    {
      "cell_type": "code",
      "execution_count": null,
      "metadata": {
        "id": "EdcJUjCV2Cwl",
        "outputId": "e06d6cc2-2711-4437-bb1a-292549c2fd22"
      },
      "outputs": [
        {
          "name": "stderr",
          "output_type": "stream",
          "text": [
            "2022-05-20 15:54:09,955:qiskit.aqua.algorithms.vq_algorithm:INFO: Starting optimizer.\n",
            "bounds=[(None, None), (None, None), (None, None), (None, None), (None, None), (None, None), (None, None), (None, None), (None, None), (None, None), (None, None), (None, None), (None, None), (None, None), (None, None), (None, None)]\n",
            "initial point=[-0.9192223  -0.10874246  2.34200303  0.20263471 -1.05675895 -1.9927186\n",
            " -1.45682903 -0.09243282  0.19305317  0.89051176 -0.57415853  0.24143234\n",
            "  2.27245551  0.58441587  0.21972644 -1.52063582]\n",
            "2022-05-20 15:54:11,595:qiskit.aqua.algorithms.classifiers.vqc:DEBUG: Intermediate batch cost: 0.9832222704763914\n",
            "2022-05-20 15:54:13,746:qiskit.aqua.algorithms.classifiers.vqc:DEBUG: Intermediate batch cost: 0.8257583926801167\n",
            "2022-05-20 15:54:15,784:qiskit.aqua.algorithms.classifiers.vqc:DEBUG: Intermediate batch cost: 0.8135202409006439\n",
            "2022-05-20 15:54:17,601:qiskit.aqua.algorithms.classifiers.vqc:DEBUG: Intermediate batch cost: 0.7518432339402983\n",
            "2022-05-20 15:54:19,163:qiskit.aqua.algorithms.classifiers.vqc:DEBUG: Intermediate batch cost: 0.757422394866001\n",
            "2022-05-20 15:54:20,839:qiskit.aqua.algorithms.classifiers.vqc:DEBUG: Intermediate batch cost: 0.7956306283587729\n",
            "2022-05-20 15:54:22,508:qiskit.aqua.algorithms.classifiers.vqc:DEBUG: Intermediate batch cost: 0.7518432339402983\n",
            "2022-05-20 15:54:24,100:qiskit.aqua.algorithms.classifiers.vqc:DEBUG: Intermediate batch cost: 0.7518432339402983\n",
            "2022-05-20 15:54:25,900:qiskit.aqua.algorithms.classifiers.vqc:DEBUG: Intermediate batch cost: 0.7236635997891339\n",
            "2022-05-20 15:54:27,504:qiskit.aqua.algorithms.classifiers.vqc:DEBUG: Intermediate batch cost: 0.6570254454042477\n",
            "2022-05-20 15:54:29,194:qiskit.aqua.algorithms.classifiers.vqc:DEBUG: Intermediate batch cost: 0.5684161585777996\n",
            "2022-05-20 15:54:30,758:qiskit.aqua.algorithms.classifiers.vqc:DEBUG: Intermediate batch cost: 0.6310083892811511\n",
            "2022-05-20 15:54:32,426:qiskit.aqua.algorithms.classifiers.vqc:DEBUG: Intermediate batch cost: 0.5930203018211524\n",
            "2022-05-20 15:54:33,952:qiskit.aqua.algorithms.classifiers.vqc:DEBUG: Intermediate batch cost: 0.5653263176609444\n",
            "2022-05-20 15:54:35,701:qiskit.aqua.algorithms.classifiers.vqc:DEBUG: Intermediate batch cost: 0.6041500231630057\n",
            "2022-05-20 15:54:37,303:qiskit.aqua.algorithms.classifiers.vqc:DEBUG: Intermediate batch cost: 0.565044844542979\n",
            "2022-05-20 15:54:38,959:qiskit.aqua.algorithms.classifiers.vqc:DEBUG: Intermediate batch cost: 0.5434856653056122\n",
            "2022-05-20 15:54:40,673:qiskit.aqua.algorithms.classifiers.vqc:DEBUG: Intermediate batch cost: 0.46950342547905394\n",
            "2022-05-20 15:54:42,276:qiskit.aqua.algorithms.classifiers.vqc:DEBUG: Intermediate batch cost: 0.5091047066987332\n",
            "2022-05-20 15:54:44,085:qiskit.aqua.algorithms.classifiers.vqc:DEBUG: Intermediate batch cost: 0.47438830947266447\n",
            "2022-05-20 15:54:44,086:qiskit.aqua.algorithms.classifiers.vqc:INFO: Optimization complete in 34.130749464035034 seconds.\n",
            "Found opt_params [ 0.7829557   0.94583108  3.61703904  0.17775558 -1.25201989 -1.9927186\n",
            " -1.45682903  1.0332285   1.4902124   2.28564677 -0.8532758   0.13171519\n",
            "  3.28623403  0.41128949  1.22098161 -0.42449706] in 20 evals\n",
            "2022-05-20 15:54:44,465:qiskit.aqua.algorithms.classifiers.vqc:DEBUG: Intermediate batch accuracy: 72.50%\n",
            "2022-05-20 15:54:44,466:qiskit.aqua.algorithms.classifiers.vqc:INFO: Accuracy is 72.50%\n",
            "2022-05-20 15:54:44,466:qiskit.aqua.algorithms.classifiers.vqc:DEBUG: Predicting batch 0\n"
          ]
        },
        {
          "name": "stdout",
          "output_type": "stream",
          "text": [
            "Testing success ratio: 0.725\n",
            "\n",
            "Prediction from datapoints set:\n",
            "  ground truth: [0, 0, 0, 0, 0, 0, 0, 0, 0, 0, 0, 0, 0, 0, 0, 0, 0, 0, 0, 1, 1, 1, 1, 1, 1, 1, 1, 1, 1, 1, 1, 1, 1, 1, 1, 1, 1, 1, 1, 1]\n",
            "  prediction:   [0, 1, 0, 0, 0, 0, 0, 0, 0, 1, 1, 0, 1, 1, 0, 0, 0, 1, 1, 0, 1, 1, 0, 1, 0, 1, 1, 1, 1, 1, 1, 1, 1, 1, 1, 1, 1, 1, 1, 0]\n",
            "  success rate: 72.5%\n"
          ]
        }
      ],
      "source": [
        "# Define feature_map, optimizer and var_form\n",
        "\n",
        "feature_map = ZZFeatureMap(feature_dimension=feature_dim, reps=2)\n",
        "optimizer = COBYLA(maxiter=20, disp=True, rhobeg=1.0, tol=None)\n",
        "var_form = TwoLocal(feature_dim, ['ry', 'rz'], 'cz', reps=3)\n",
        "vqc = VQC(optimizer, feature_map, var_form, training_input, test_input, datapoints[0])\n",
        "\n",
        "# Define the backend\n",
        "\n",
        "backend = Aer.get_backend('qasm_simulator')\n",
        "\n",
        "# Define the instance\n",
        "\n",
        "quantum_instance = QuantumInstance(backend, shots=1024, seed_simulator=seed, seed_transpiler=seed)\n",
        "\n",
        "# Model run\n",
        "\n",
        "result = vqc.run(quantum_instance)\n",
        "\n",
        "print(f'Testing success ratio: {result[\"testing_accuracy\"]}')\n",
        "print()\n",
        "print('Prediction from datapoints set:')\n",
        "print(f'  ground truth: {map_label_to_class_name(datapoints[1], vqc.label_to_class)}')\n",
        "print(f'  prediction:   {result[\"predicted_classes\"]}')\n",
        "predicted_labels = result[\"predicted_labels\"]\n",
        "print(f'  success rate: {100*np.count_nonzero(predicted_labels == datapoints[1])/len(predicted_labels)}%')"
      ]
    },
    {
      "cell_type": "code",
      "execution_count": null,
      "metadata": {
        "id": "Mm1iRb2v2Cwm",
        "outputId": "7cdf811c-ad41-4da9-8964-77eb99f9b529"
      },
      "outputs": [
        {
          "name": "stdout",
          "output_type": "stream",
          "text": [
            "[[12  7]\n",
            " [ 4 17]]\n",
            "0.725\n",
            "              precision    recall  f1-score   support\n",
            "\n",
            "           0       0.75      0.63      0.69        19\n",
            "           1       0.71      0.81      0.76        21\n",
            "\n",
            "    accuracy                           0.73        40\n",
            "   macro avg       0.73      0.72      0.72        40\n",
            "weighted avg       0.73      0.72      0.72        40\n",
            "\n",
            "0.7205513784461153\n"
          ]
        }
      ],
      "source": [
        "# Print the classification report and important metrics\n",
        "\n",
        "print(metrics.confusion_matrix(dp_y,result['predicted_classes']))\n",
        "print(metrics.accuracy_score(dp_y,result['predicted_classes']))\n",
        "print(metrics.classification_report(dp_y,result['predicted_classes'], target_names=['0','1']))\n",
        "print(metrics.balanced_accuracy_score(dp_y,result['predicted_classes']))"
      ]
    }
  ],
  "metadata": {
    "interpreter": {
      "hash": "09a2343d96e4209a5eb8971e1e9a0248c4f95d560a06ad86d050590524a525f8"
    },
    "kernelspec": {
      "display_name": "Python 3.9.12 ('qkt-tookit')",
      "language": "python",
      "name": "python3"
    },
    "language_info": {
      "codemirror_mode": {
        "name": "ipython",
        "version": 3
      },
      "file_extension": ".py",
      "mimetype": "text/x-python",
      "name": "python",
      "nbconvert_exporter": "python",
      "pygments_lexer": "ipython3",
      "version": "3.9.12"
    },
    "orig_nbformat": 4,
    "colab": {
      "provenance": []
    }
  },
  "nbformat": 4,
  "nbformat_minor": 0
}