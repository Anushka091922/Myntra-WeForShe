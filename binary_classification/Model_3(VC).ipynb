{
  "cells": [
    {
      "cell_type": "code",
      "execution_count": null,
      "metadata": {
        "id": "MXVfXkXy2Y2N"
      },
      "outputs": [],
      "source": [
        "import pandas as pd\n",
        "import numpy as np\n",
        "from pennylane import numpy as np\n",
        "from sklearn.preprocessing import normalize\n",
        "from sklearn.preprocessing import StandardScaler\n",
        "\n",
        "import pennylane as qml\n",
        "from pennylane.templates.embeddings import AngleEmbedding, AmplitudeEmbedding\n",
        "from pennylane.optimize import AdamOptimizer\n",
        "from sklearn.decomposition import PCA\n",
        "from sklearn.preprocessing import StandardScaler\n",
        "from sklearn import metrics\n",
        "from sklearn.model_selection import train_test_split\n",
        "from sklearn.preprocessing import MinMaxScaler\n",
        "\n",
        "\n",
        "import time\n",
        "start = time.time()"
      ]
    },
    {
      "cell_type": "code",
      "execution_count": null,
      "metadata": {
        "id": "jqPFL4YO2Y2P"
      },
      "outputs": [],
      "source": [
        "# Read out CSV and sets/samples creation\n",
        "\n",
        "df = pd.read_csv('synthetic_data.csv', sep=',')\n",
        "df = df.astype(float)\n",
        "train,test = train_test_split(df, test_size=0.30, random_state=2)\n",
        "train_set = train\n",
        "test_set = test\n",
        "train_set = train_set.sample(160)\n",
        "test_set = test_set.sample(40)\n",
        "np.random.seed(42)"
      ]
    },
    {
      "cell_type": "code",
      "execution_count": null,
      "metadata": {
        "id": "tupKKd3G2Y2P",
        "outputId": "b4bc85b5-cad8-4321-f64b-d7ab3e07fce3"
      },
      "outputs": [
        {
          "data": {
            "text/plain": [
              "<bound method DataFrame.info of         X1        X2        X3        X4        X5        X6        X7  \\\n",
              "0      1.0  0.031390  0.031390  0.031390  0.031390  0.031390  0.031390   \n",
              "1      1.0  5.234565  5.234565  5.234565  5.234565  5.234565  5.234565   \n",
              "2      1.0  9.354209  9.354209  9.354209  9.354209  9.354209  9.354209   \n",
              "3      1.0 -8.133407 -8.133407 -8.133407 -8.133407 -8.133407 -8.133407   \n",
              "4      1.0 -5.471547 -5.471547 -5.471547 -5.471547 -5.471547 -5.471547   \n",
              "...    ...       ...       ...       ...       ...       ...       ...   \n",
              "49995  1.0  6.592156  6.592156  6.592156  6.592156  6.592156  6.592156   \n",
              "49996  1.0 -7.705122 -7.705122 -7.705122 -7.705122 -7.705122 -7.705122   \n",
              "49997  1.0  5.117075  5.117075  5.117075  5.117075  5.117075  5.117075   \n",
              "49998  1.0  0.255174  0.255174  0.255174  0.255174  0.255174  0.255174   \n",
              "49999  1.0  1.638036  1.638036  1.638036  1.638036  1.638036  1.638036   \n",
              "\n",
              "             X8        X9       X10    y  \n",
              "0      0.031390  0.031390  0.031390  1.0  \n",
              "1      5.234565  5.234565  5.234565  1.0  \n",
              "2      9.354209  9.354209  9.354209  1.0  \n",
              "3     -8.133407 -8.133407 -8.133407  0.0  \n",
              "4     -5.471547 -5.471547 -5.471547  0.0  \n",
              "...         ...       ...       ...  ...  \n",
              "49995  6.592156  6.592156  6.592156  1.0  \n",
              "49996 -7.705122 -7.705122 -7.705122  0.0  \n",
              "49997  5.117075  5.117075  5.117075  1.0  \n",
              "49998  0.255174  0.255174  0.255174  1.0  \n",
              "49999  1.638036  1.638036  1.638036  1.0  \n",
              "\n",
              "[50000 rows x 11 columns]>"
            ]
          },
          "execution_count": 18,
          "metadata": {},
          "output_type": "execute_result"
        }
      ],
      "source": [
        "# Review the information related to the dataframe\n",
        "\n",
        "df.info()"
      ]
    },
    {
      "cell_type": "code",
      "execution_count": null,
      "metadata": {
        "id": "SO8W06Tn2Y2Q",
        "outputId": "ab4455a5-e57e-4c1e-c136-13f740cf72a0"
      },
      "outputs": [
        {
          "data": {
            "text/html": [
              "<div>\n",
              "<style scoped>\n",
              "    .dataframe tbody tr th:only-of-type {\n",
              "        vertical-align: middle;\n",
              "    }\n",
              "\n",
              "    .dataframe tbody tr th {\n",
              "        vertical-align: top;\n",
              "    }\n",
              "\n",
              "    .dataframe thead th {\n",
              "        text-align: right;\n",
              "    }\n",
              "</style>\n",
              "<table border=\"1\" class=\"dataframe\">\n",
              "  <thead>\n",
              "    <tr style=\"text-align: right;\">\n",
              "      <th></th>\n",
              "      <th>X1</th>\n",
              "      <th>X2</th>\n",
              "      <th>X3</th>\n",
              "      <th>X4</th>\n",
              "      <th>X5</th>\n",
              "      <th>X6</th>\n",
              "      <th>X7</th>\n",
              "      <th>X8</th>\n",
              "      <th>X9</th>\n",
              "      <th>X10</th>\n",
              "      <th>y</th>\n",
              "    </tr>\n",
              "  </thead>\n",
              "  <tbody>\n",
              "    <tr>\n",
              "      <th>count</th>\n",
              "      <td>50000.0</td>\n",
              "      <td>50000.000000</td>\n",
              "      <td>50000.000000</td>\n",
              "      <td>50000.000000</td>\n",
              "      <td>50000.000000</td>\n",
              "      <td>50000.000000</td>\n",
              "      <td>50000.000000</td>\n",
              "      <td>50000.000000</td>\n",
              "      <td>50000.000000</td>\n",
              "      <td>50000.000000</td>\n",
              "      <td>50000.000000</td>\n",
              "    </tr>\n",
              "    <tr>\n",
              "      <th>mean</th>\n",
              "      <td>1.0</td>\n",
              "      <td>0.028783</td>\n",
              "      <td>0.028783</td>\n",
              "      <td>0.028783</td>\n",
              "      <td>0.028783</td>\n",
              "      <td>0.028783</td>\n",
              "      <td>0.028783</td>\n",
              "      <td>0.028783</td>\n",
              "      <td>0.028783</td>\n",
              "      <td>0.028783</td>\n",
              "      <td>0.478760</td>\n",
              "    </tr>\n",
              "    <tr>\n",
              "      <th>std</th>\n",
              "      <td>0.0</td>\n",
              "      <td>5.761384</td>\n",
              "      <td>5.761384</td>\n",
              "      <td>5.761384</td>\n",
              "      <td>5.761384</td>\n",
              "      <td>5.761384</td>\n",
              "      <td>5.761384</td>\n",
              "      <td>5.761384</td>\n",
              "      <td>5.761384</td>\n",
              "      <td>5.761384</td>\n",
              "      <td>0.499554</td>\n",
              "    </tr>\n",
              "    <tr>\n",
              "      <th>min</th>\n",
              "      <td>1.0</td>\n",
              "      <td>-9.999899</td>\n",
              "      <td>-9.999899</td>\n",
              "      <td>-9.999899</td>\n",
              "      <td>-9.999899</td>\n",
              "      <td>-9.999899</td>\n",
              "      <td>-9.999899</td>\n",
              "      <td>-9.999899</td>\n",
              "      <td>-9.999899</td>\n",
              "      <td>-9.999899</td>\n",
              "      <td>0.000000</td>\n",
              "    </tr>\n",
              "    <tr>\n",
              "      <th>25%</th>\n",
              "      <td>1.0</td>\n",
              "      <td>-4.926806</td>\n",
              "      <td>-4.926806</td>\n",
              "      <td>-4.926806</td>\n",
              "      <td>-4.926806</td>\n",
              "      <td>-4.926806</td>\n",
              "      <td>-4.926806</td>\n",
              "      <td>-4.926806</td>\n",
              "      <td>-4.926806</td>\n",
              "      <td>-4.926806</td>\n",
              "      <td>0.000000</td>\n",
              "    </tr>\n",
              "    <tr>\n",
              "      <th>50%</th>\n",
              "      <td>1.0</td>\n",
              "      <td>0.057610</td>\n",
              "      <td>0.057610</td>\n",
              "      <td>0.057610</td>\n",
              "      <td>0.057610</td>\n",
              "      <td>0.057610</td>\n",
              "      <td>0.057610</td>\n",
              "      <td>0.057610</td>\n",
              "      <td>0.057610</td>\n",
              "      <td>0.057610</td>\n",
              "      <td>0.000000</td>\n",
              "    </tr>\n",
              "    <tr>\n",
              "      <th>75%</th>\n",
              "      <td>1.0</td>\n",
              "      <td>4.996073</td>\n",
              "      <td>4.996073</td>\n",
              "      <td>4.996073</td>\n",
              "      <td>4.996073</td>\n",
              "      <td>4.996073</td>\n",
              "      <td>4.996073</td>\n",
              "      <td>4.996073</td>\n",
              "      <td>4.996073</td>\n",
              "      <td>4.996073</td>\n",
              "      <td>1.000000</td>\n",
              "    </tr>\n",
              "    <tr>\n",
              "      <th>max</th>\n",
              "      <td>1.0</td>\n",
              "      <td>9.999712</td>\n",
              "      <td>9.999712</td>\n",
              "      <td>9.999712</td>\n",
              "      <td>9.999712</td>\n",
              "      <td>9.999712</td>\n",
              "      <td>9.999712</td>\n",
              "      <td>9.999712</td>\n",
              "      <td>9.999712</td>\n",
              "      <td>9.999712</td>\n",
              "      <td>1.000000</td>\n",
              "    </tr>\n",
              "  </tbody>\n",
              "</table>\n",
              "</div>"
            ],
            "text/plain": [
              "            X1            X2            X3            X4            X5  \\\n",
              "count  50000.0  50000.000000  50000.000000  50000.000000  50000.000000   \n",
              "mean       1.0      0.028783      0.028783      0.028783      0.028783   \n",
              "std        0.0      5.761384      5.761384      5.761384      5.761384   \n",
              "min        1.0     -9.999899     -9.999899     -9.999899     -9.999899   \n",
              "25%        1.0     -4.926806     -4.926806     -4.926806     -4.926806   \n",
              "50%        1.0      0.057610      0.057610      0.057610      0.057610   \n",
              "75%        1.0      4.996073      4.996073      4.996073      4.996073   \n",
              "max        1.0      9.999712      9.999712      9.999712      9.999712   \n",
              "\n",
              "                 X6            X7            X8            X9           X10  \\\n",
              "count  50000.000000  50000.000000  50000.000000  50000.000000  50000.000000   \n",
              "mean       0.028783      0.028783      0.028783      0.028783      0.028783   \n",
              "std        5.761384      5.761384      5.761384      5.761384      5.761384   \n",
              "min       -9.999899     -9.999899     -9.999899     -9.999899     -9.999899   \n",
              "25%       -4.926806     -4.926806     -4.926806     -4.926806     -4.926806   \n",
              "50%        0.057610      0.057610      0.057610      0.057610      0.057610   \n",
              "75%        4.996073      4.996073      4.996073      4.996073      4.996073   \n",
              "max        9.999712      9.999712      9.999712      9.999712      9.999712   \n",
              "\n",
              "                  y  \n",
              "count  50000.000000  \n",
              "mean       0.478760  \n",
              "std        0.499554  \n",
              "min        0.000000  \n",
              "25%        0.000000  \n",
              "50%        0.000000  \n",
              "75%        1.000000  \n",
              "max        1.000000  "
            ]
          },
          "execution_count": 19,
          "metadata": {},
          "output_type": "execute_result"
        }
      ],
      "source": [
        "# Table of the description of the dataframe related to fixed parameters\n",
        "\n",
        "df.describe()"
      ]
    },
    {
      "cell_type": "code",
      "execution_count": null,
      "metadata": {
        "id": "_CvJpXS12Y2R"
      },
      "outputs": [],
      "source": [
        "# Separation of labels\n",
        "\n",
        "x_train = train_set\n",
        "y_train = train_set[['y']]\n",
        "\n",
        "x_test = test_set\n",
        "y_test = test_set[['y']]"
      ]
    },
    {
      "cell_type": "code",
      "execution_count": null,
      "metadata": {
        "id": "kRvE-MqY2Y2R"
      },
      "outputs": [],
      "source": [
        "# Reduce dimensions using PCA so later you can fit the dimensions with the qubits\n",
        "\n",
        "n_dim = 2\n",
        "pca = PCA(n_components=n_dim)\n",
        "pca.fit(x_train)\n",
        "\n",
        "x_train = pca.transform(x_train)\n",
        "\n",
        "pca.fit(x_test)\n",
        "x_test = pca.transform(x_test)"
      ]
    },
    {
      "cell_type": "code",
      "execution_count": null,
      "metadata": {
        "id": "DkVwH06K2Y2R"
      },
      "outputs": [],
      "source": [
        "# Normalize\n",
        "\n",
        "std_scale = StandardScaler().fit(x_train)\n",
        "data = std_scale.transform(x_train)\n",
        "x_test = std_scale.transform(x_test)"
      ]
    },
    {
      "cell_type": "code",
      "execution_count": null,
      "metadata": {
        "id": "4tsd_91N2Y2R",
        "outputId": "78278d58-409f-4ca6-eace-a85934a14fb5"
      },
      "outputs": [
        {
          "data": {
            "text/plain": [
              "y  \n",
              "0.0    50.625\n",
              "1.0    49.375\n",
              "dtype: float64"
            ]
          },
          "execution_count": 23,
          "metadata": {},
          "output_type": "execute_result"
        }
      ],
      "source": [
        "# Review the balance of the target variable in train\n",
        "\n",
        "y_train.value_counts(normalize=True)*100"
      ]
    },
    {
      "cell_type": "code",
      "execution_count": null,
      "metadata": {
        "id": "rnKB-nNx2Y2R",
        "outputId": "03e695fc-3e01-4d1c-f316-7815de20ede8"
      },
      "outputs": [
        {
          "data": {
            "text/plain": [
              "y  \n",
              "1.0    57.5\n",
              "0.0    42.5\n",
              "dtype: float64"
            ]
          },
          "execution_count": 24,
          "metadata": {},
          "output_type": "execute_result"
        }
      ],
      "source": [
        "# Review the balance of the target variable in test\n",
        "\n",
        "y_test.value_counts(normalize=True)*100"
      ]
    },
    {
      "cell_type": "code",
      "execution_count": null,
      "metadata": {
        "id": "5BD2wdNe2Y2S"
      },
      "outputs": [],
      "source": [
        "# Angle Encoding\n",
        "\n",
        "num_qubits = n_dim\n",
        "\n",
        "dev = qml.device('default.qubit', wires = num_qubits)\n",
        "\n",
        "@qml.qnode(dev)\n",
        "def circuit(parameters, data):\n",
        "    for i in range(num_qubits):\n",
        "        qml.Hadamard(wires = i)\n",
        "\n",
        "    AngleEmbedding(features = data, wires = range(num_qubits), rotation = 'Y')\n",
        "\n",
        "    qml.StronglyEntanglingLayers(weights = parameters, wires = range(num_qubits))\n",
        "\n",
        "    return qml.expval(qml.PauliZ(0))"
      ]
    },
    {
      "cell_type": "code",
      "execution_count": null,
      "metadata": {
        "id": "28DUz8mF2Y2S",
        "outputId": "465c0158-20e9-43c2-e5af-d1871641e03c"
      },
      "outputs": [
        {
          "name": "stdout",
          "output_type": "stream",
          "text": [
            "[[[ 0.00496714 -0.00138264  0.00647689]\n",
            "  [ 0.0152303  -0.00234153 -0.00234137]]\n",
            "\n",
            " [[ 0.01579213  0.00767435 -0.00469474]\n",
            "  [ 0.0054256  -0.00463418 -0.0046573 ]]\n",
            "\n",
            " [[ 0.00241962 -0.0191328  -0.01724918]\n",
            "  [-0.00562288 -0.01012831  0.00314247]]\n",
            "\n",
            " [[-0.00908024 -0.01412304  0.01465649]\n",
            "  [-0.00225776  0.00067528 -0.01424748]]\n",
            "\n",
            " [[-0.00544383  0.00110923 -0.01150994]\n",
            "  [ 0.00375698 -0.00600639 -0.00291694]]] 0.0\n"
          ]
        }
      ],
      "source": [
        "num_layers = 5\n",
        "weights_init = 0.01 * np.random.randn(num_layers, num_qubits, 3, requires_grad=True)\n",
        "bias_init = np.array(0.0, requires_grad=True)\n",
        "\n",
        "print(weights_init, bias_init)"
      ]
    },
    {
      "cell_type": "code",
      "execution_count": null,
      "metadata": {
        "id": "SmZQaXLo2Y2S",
        "outputId": "43dac8a1-bc60-4ec2-94c2-2caafd1e73b2"
      },
      "outputs": [
        {
          "data": {
            "text/plain": [
              "tensor(0.2412114, requires_grad=True)"
            ]
          },
          "execution_count": 27,
          "metadata": {},
          "output_type": "execute_result"
        }
      ],
      "source": [
        "circuit(weights_init, data[0])"
      ]
    },
    {
      "cell_type": "code",
      "execution_count": null,
      "metadata": {
        "id": "LPUyNOMX2Y2S"
      },
      "outputs": [],
      "source": [
        "def variational_classifier(weights, bias, x):\n",
        "    return circuit(weights, x) + bias"
      ]
    },
    {
      "cell_type": "code",
      "execution_count": null,
      "metadata": {
        "id": "arhJi0pu2Y2S"
      },
      "outputs": [],
      "source": [
        "def square_loss(labels, predictions):\n",
        "    loss = 0\n",
        "    for l, p in zip(labels, predictions):\n",
        "        loss = loss + (l - p) ** 2\n",
        "\n",
        "    loss = loss / len(labels)\n",
        "    return loss"
      ]
    },
    {
      "cell_type": "code",
      "execution_count": null,
      "metadata": {
        "id": "bsn3AwET2Y2S"
      },
      "outputs": [],
      "source": [
        "def accuracy(labels, predictions):\n",
        "\n",
        "    loss = 0\n",
        "    for l, p in zip(labels, predictions):\n",
        "        if abs(l - p) < 1e-5:\n",
        "            loss = loss + 1\n",
        "    loss = loss / len(labels)\n",
        "\n",
        "    return loss"
      ]
    },
    {
      "cell_type": "code",
      "execution_count": null,
      "metadata": {
        "id": "z22rzYZc2Y2T"
      },
      "outputs": [],
      "source": [
        "def cost(weights, bias, X, Y):\n",
        "    predictions = [variational_classifier(weights, bias, x) for x in X]\n",
        "    return square_loss(Y, predictions)"
      ]
    },
    {
      "cell_type": "code",
      "execution_count": null,
      "metadata": {
        "id": "KZoocNjg2Y2T",
        "outputId": "879047de-4e2e-4594-a14b-88b3c42cf1ca"
      },
      "outputs": [
        {
          "name": "stdout",
          "output_type": "stream",
          "text": [
            "X = [tensor(-0.21657365, requires_grad=False), tensor(-1.49537215, requires_grad=False)], Y =  1\n",
            "X = [tensor(0.00759177, requires_grad=False), tensor(1.76220068, requires_grad=False)], Y = -1\n",
            "X = [tensor(0.62203555, requires_grad=False), tensor(0.84566537, requires_grad=False)], Y = -1\n",
            "X = [tensor(1.7201744, requires_grad=False), tensor(-0.79237387, requires_grad=False)], Y = -1\n",
            "X = [tensor(-0.89998973, requires_grad=False), tensor(-0.47595428, requires_grad=False)], Y =  1\n"
          ]
        }
      ],
      "source": [
        "Y = np.array(y_train.values[:,0] * 2 - np.ones(len(y_train.values[:,0])), requires_grad = False)  # shift label from {0, 1} to {-1, 1}\n",
        "X = np.array(data, requires_grad=False)\n",
        "\n",
        "for i in range(5):\n",
        "    print(\"X = {}, Y = {: d}\".format(list(X[i]), int(Y[i])))"
      ]
    },
    {
      "cell_type": "code",
      "execution_count": null,
      "metadata": {
        "id": "cbbRif5M2Y2T"
      },
      "outputs": [],
      "source": [
        "opt = AdamOptimizer(stepsize=0.1, beta1=0.9, beta2=0.99, eps=1e-08)\n",
        "batch_size = 10"
      ]
    },
    {
      "cell_type": "code",
      "execution_count": null,
      "metadata": {
        "id": "x9iSBsPX2Y2T",
        "outputId": "21def0f8-80e3-4799-e018-c4884ff90f4d"
      },
      "outputs": [
        {
          "name": "stdout",
          "output_type": "stream",
          "text": [
            "New best\n",
            "Iter:     1 | Cost: 1.0177179 | Accuracy: 0.5437500 \n",
            "New best\n",
            "Iter:     2 | Cost: 0.7007890 | Accuracy: 0.6312500 \n",
            "New best\n",
            "Iter:     3 | Cost: 0.4357251 | Accuracy: 0.9875000 \n",
            "New best\n",
            "Iter:     4 | Cost: 0.2764397 | Accuracy: 1.0000000 \n",
            "Iter:     5 | Cost: 0.2231992 | Accuracy: 1.0000000 \n"
          ]
        }
      ],
      "source": [
        "weights = weights_init\n",
        "bias = bias_init\n",
        "\n",
        "wbest = 0\n",
        "bbest = 0\n",
        "abest = 0\n",
        "\n",
        "for it in range(5):\n",
        "\n",
        "    # weights update by one optimizer step\n",
        "\n",
        "    batch_index = np.random.randint(0, len(X), (batch_size,))\n",
        "    X_batch = X[batch_index]\n",
        "    Y_batch = Y[batch_index]\n",
        "    weights, bias, _, _ = opt.step(cost, weights, bias, X_batch, Y_batch)\n",
        "\n",
        "    # Compute the accuracy\n",
        "    predictions = [np.sign(variational_classifier(weights, bias, x)) for x in X]\n",
        "\n",
        "    if accuracy(Y, predictions) > abest:\n",
        "        wbest = weights\n",
        "        bbest = bias\n",
        "        abest = accuracy(Y, predictions)\n",
        "        print('New best')\n",
        "\n",
        "    acc = accuracy(Y, predictions)\n",
        "\n",
        "    print(\n",
        "        \"Iter: {:5d} | Cost: {:0.7f} | Accuracy: {:0.7f} \".format(\n",
        "            it + 1, cost(weights, bias, X, Y), acc\n",
        "        )\n",
        "    )"
      ]
    },
    {
      "cell_type": "code",
      "execution_count": null,
      "metadata": {
        "id": "8i9gJdUD2Y2T"
      },
      "outputs": [],
      "source": [
        "Yte = np.array(y_test.values[:,0] * 2 - np.ones(len(y_test.values[:,0])), requires_grad = False)\n",
        "Xte = np.array(normalize(x_test), requires_grad=False)"
      ]
    },
    {
      "cell_type": "code",
      "execution_count": null,
      "metadata": {
        "id": "LfaXpKYW2Y2T",
        "outputId": "337fef6e-71f6-455a-e0c5-11b17df1646e"
      },
      "outputs": [
        {
          "name": "stdout",
          "output_type": "stream",
          "text": [
            "Cost: 0.3223128393661714, Accuracy: 100.0%\n"
          ]
        }
      ],
      "source": [
        "predictions = [np.sign(variational_classifier(wbest, bbest, x)) for x in Xte]\n",
        "pred = [np.sign(variational_classifier(wbest, bbest, x)) for x in X]\n",
        "acc = accuracy(Yte, predictions)\n",
        "\n",
        "print(f'Cost: {cost(wbest, bbest, Xte, Yte)}, Accuracy: {np.round(acc, 2) * 100}%')"
      ]
    },
    {
      "cell_type": "code",
      "execution_count": null,
      "metadata": {
        "id": "QVyXbirC2Y2U",
        "outputId": "532ac76c-22bb-436b-be71-a4bca7a8bc43"
      },
      "outputs": [
        {
          "data": {
            "text/html": [
              "<div>\n",
              "<style scoped>\n",
              "    .dataframe tbody tr th:only-of-type {\n",
              "        vertical-align: middle;\n",
              "    }\n",
              "\n",
              "    .dataframe tbody tr th {\n",
              "        vertical-align: top;\n",
              "    }\n",
              "\n",
              "    .dataframe thead th {\n",
              "        text-align: right;\n",
              "    }\n",
              "</style>\n",
              "<table border=\"1\" class=\"dataframe\">\n",
              "  <thead>\n",
              "    <tr style=\"text-align: right;\">\n",
              "      <th></th>\n",
              "      <th>Predictions</th>\n",
              "      <th>Test</th>\n",
              "    </tr>\n",
              "  </thead>\n",
              "  <tbody>\n",
              "    <tr>\n",
              "      <th>0</th>\n",
              "      <td>1.0</td>\n",
              "      <td>1.0</td>\n",
              "    </tr>\n",
              "    <tr>\n",
              "      <th>1</th>\n",
              "      <td>1.0</td>\n",
              "      <td>1.0</td>\n",
              "    </tr>\n",
              "    <tr>\n",
              "      <th>2</th>\n",
              "      <td>1.0</td>\n",
              "      <td>1.0</td>\n",
              "    </tr>\n",
              "    <tr>\n",
              "      <th>3</th>\n",
              "      <td>1.0</td>\n",
              "      <td>1.0</td>\n",
              "    </tr>\n",
              "    <tr>\n",
              "      <th>4</th>\n",
              "      <td>-1.0</td>\n",
              "      <td>-1.0</td>\n",
              "    </tr>\n",
              "    <tr>\n",
              "      <th>5</th>\n",
              "      <td>-1.0</td>\n",
              "      <td>-1.0</td>\n",
              "    </tr>\n",
              "    <tr>\n",
              "      <th>6</th>\n",
              "      <td>1.0</td>\n",
              "      <td>1.0</td>\n",
              "    </tr>\n",
              "    <tr>\n",
              "      <th>7</th>\n",
              "      <td>1.0</td>\n",
              "      <td>1.0</td>\n",
              "    </tr>\n",
              "    <tr>\n",
              "      <th>8</th>\n",
              "      <td>1.0</td>\n",
              "      <td>1.0</td>\n",
              "    </tr>\n",
              "    <tr>\n",
              "      <th>9</th>\n",
              "      <td>-1.0</td>\n",
              "      <td>-1.0</td>\n",
              "    </tr>\n",
              "    <tr>\n",
              "      <th>10</th>\n",
              "      <td>-1.0</td>\n",
              "      <td>-1.0</td>\n",
              "    </tr>\n",
              "    <tr>\n",
              "      <th>11</th>\n",
              "      <td>-1.0</td>\n",
              "      <td>-1.0</td>\n",
              "    </tr>\n",
              "    <tr>\n",
              "      <th>12</th>\n",
              "      <td>-1.0</td>\n",
              "      <td>-1.0</td>\n",
              "    </tr>\n",
              "    <tr>\n",
              "      <th>13</th>\n",
              "      <td>-1.0</td>\n",
              "      <td>-1.0</td>\n",
              "    </tr>\n",
              "    <tr>\n",
              "      <th>14</th>\n",
              "      <td>1.0</td>\n",
              "      <td>1.0</td>\n",
              "    </tr>\n",
              "    <tr>\n",
              "      <th>15</th>\n",
              "      <td>1.0</td>\n",
              "      <td>1.0</td>\n",
              "    </tr>\n",
              "    <tr>\n",
              "      <th>16</th>\n",
              "      <td>1.0</td>\n",
              "      <td>1.0</td>\n",
              "    </tr>\n",
              "    <tr>\n",
              "      <th>17</th>\n",
              "      <td>1.0</td>\n",
              "      <td>1.0</td>\n",
              "    </tr>\n",
              "    <tr>\n",
              "      <th>18</th>\n",
              "      <td>1.0</td>\n",
              "      <td>1.0</td>\n",
              "    </tr>\n",
              "    <tr>\n",
              "      <th>19</th>\n",
              "      <td>1.0</td>\n",
              "      <td>1.0</td>\n",
              "    </tr>\n",
              "    <tr>\n",
              "      <th>20</th>\n",
              "      <td>-1.0</td>\n",
              "      <td>-1.0</td>\n",
              "    </tr>\n",
              "    <tr>\n",
              "      <th>21</th>\n",
              "      <td>-1.0</td>\n",
              "      <td>-1.0</td>\n",
              "    </tr>\n",
              "    <tr>\n",
              "      <th>22</th>\n",
              "      <td>-1.0</td>\n",
              "      <td>-1.0</td>\n",
              "    </tr>\n",
              "    <tr>\n",
              "      <th>23</th>\n",
              "      <td>-1.0</td>\n",
              "      <td>-1.0</td>\n",
              "    </tr>\n",
              "    <tr>\n",
              "      <th>24</th>\n",
              "      <td>1.0</td>\n",
              "      <td>1.0</td>\n",
              "    </tr>\n",
              "    <tr>\n",
              "      <th>25</th>\n",
              "      <td>1.0</td>\n",
              "      <td>1.0</td>\n",
              "    </tr>\n",
              "    <tr>\n",
              "      <th>26</th>\n",
              "      <td>1.0</td>\n",
              "      <td>1.0</td>\n",
              "    </tr>\n",
              "    <tr>\n",
              "      <th>27</th>\n",
              "      <td>-1.0</td>\n",
              "      <td>-1.0</td>\n",
              "    </tr>\n",
              "    <tr>\n",
              "      <th>28</th>\n",
              "      <td>-1.0</td>\n",
              "      <td>-1.0</td>\n",
              "    </tr>\n",
              "    <tr>\n",
              "      <th>29</th>\n",
              "      <td>-1.0</td>\n",
              "      <td>-1.0</td>\n",
              "    </tr>\n",
              "    <tr>\n",
              "      <th>30</th>\n",
              "      <td>-1.0</td>\n",
              "      <td>-1.0</td>\n",
              "    </tr>\n",
              "    <tr>\n",
              "      <th>31</th>\n",
              "      <td>-1.0</td>\n",
              "      <td>-1.0</td>\n",
              "    </tr>\n",
              "    <tr>\n",
              "      <th>32</th>\n",
              "      <td>1.0</td>\n",
              "      <td>1.0</td>\n",
              "    </tr>\n",
              "    <tr>\n",
              "      <th>33</th>\n",
              "      <td>1.0</td>\n",
              "      <td>1.0</td>\n",
              "    </tr>\n",
              "    <tr>\n",
              "      <th>34</th>\n",
              "      <td>1.0</td>\n",
              "      <td>1.0</td>\n",
              "    </tr>\n",
              "    <tr>\n",
              "      <th>35</th>\n",
              "      <td>-1.0</td>\n",
              "      <td>-1.0</td>\n",
              "    </tr>\n",
              "    <tr>\n",
              "      <th>36</th>\n",
              "      <td>1.0</td>\n",
              "      <td>1.0</td>\n",
              "    </tr>\n",
              "    <tr>\n",
              "      <th>37</th>\n",
              "      <td>1.0</td>\n",
              "      <td>1.0</td>\n",
              "    </tr>\n",
              "    <tr>\n",
              "      <th>38</th>\n",
              "      <td>1.0</td>\n",
              "      <td>1.0</td>\n",
              "    </tr>\n",
              "    <tr>\n",
              "      <th>39</th>\n",
              "      <td>1.0</td>\n",
              "      <td>1.0</td>\n",
              "    </tr>\n",
              "  </tbody>\n",
              "</table>\n",
              "</div>"
            ],
            "text/plain": [
              "   Predictions  Test\n",
              "0          1.0   1.0\n",
              "1          1.0   1.0\n",
              "2          1.0   1.0\n",
              "3          1.0   1.0\n",
              "4         -1.0  -1.0\n",
              "5         -1.0  -1.0\n",
              "6          1.0   1.0\n",
              "7          1.0   1.0\n",
              "8          1.0   1.0\n",
              "9         -1.0  -1.0\n",
              "10        -1.0  -1.0\n",
              "11        -1.0  -1.0\n",
              "12        -1.0  -1.0\n",
              "13        -1.0  -1.0\n",
              "14         1.0   1.0\n",
              "15         1.0   1.0\n",
              "16         1.0   1.0\n",
              "17         1.0   1.0\n",
              "18         1.0   1.0\n",
              "19         1.0   1.0\n",
              "20        -1.0  -1.0\n",
              "21        -1.0  -1.0\n",
              "22        -1.0  -1.0\n",
              "23        -1.0  -1.0\n",
              "24         1.0   1.0\n",
              "25         1.0   1.0\n",
              "26         1.0   1.0\n",
              "27        -1.0  -1.0\n",
              "28        -1.0  -1.0\n",
              "29        -1.0  -1.0\n",
              "30        -1.0  -1.0\n",
              "31        -1.0  -1.0\n",
              "32         1.0   1.0\n",
              "33         1.0   1.0\n",
              "34         1.0   1.0\n",
              "35        -1.0  -1.0\n",
              "36         1.0   1.0\n",
              "37         1.0   1.0\n",
              "38         1.0   1.0\n",
              "39         1.0   1.0"
            ]
          },
          "execution_count": 37,
          "metadata": {},
          "output_type": "execute_result"
        }
      ],
      "source": [
        "pd.DataFrame((predictions, Yte), ('Predictions', 'Test')).T"
      ]
    },
    {
      "cell_type": "code",
      "execution_count": null,
      "metadata": {
        "id": "-8xAaZ2s2Y2U",
        "outputId": "aaa18929-e8c7-4370-be64-1579481e1841"
      },
      "outputs": [
        {
          "name": "stdout",
          "output_type": "stream",
          "text": [
            "              precision    recall  f1-score   support\n",
            "\n",
            "        -1.0       1.00      1.00      1.00        17\n",
            "         1.0       1.00      1.00      1.00        23\n",
            "\n",
            "    accuracy                           1.00        40\n",
            "   macro avg       1.00      1.00      1.00        40\n",
            "weighted avg       1.00      1.00      1.00        40\n",
            "\n",
            "1.0\n",
            "1.0\n",
            "1.0\n",
            "1.0\n"
          ]
        }
      ],
      "source": [
        "# Print the classification report and important metrics\n",
        "\n",
        "print(metrics.classification_report(predictions,Yte))\n",
        "print(metrics.precision_score(predictions,Yte))\n",
        "print(metrics.recall_score(predictions,Yte))\n",
        "print(metrics.f1_score(predictions,Yte))\n",
        "print(metrics.balanced_accuracy_score(predictions,Yte))"
      ]
    },
    {
      "cell_type": "code",
      "execution_count": null,
      "metadata": {
        "id": "0bL5Qpq52Y2U"
      },
      "outputs": [],
      "source": []
    }
  ],
  "metadata": {
    "interpreter": {
      "hash": "09a2343d96e4209a5eb8971e1e9a0248c4f95d560a06ad86d050590524a525f8"
    },
    "kernelspec": {
      "display_name": "Python 3.9.12 ('qkt-tookit')",
      "language": "python",
      "name": "python3"
    },
    "language_info": {
      "codemirror_mode": {
        "name": "ipython",
        "version": 3
      },
      "file_extension": ".py",
      "mimetype": "text/x-python",
      "name": "python",
      "nbconvert_exporter": "python",
      "pygments_lexer": "ipython3",
      "version": "3.9.12"
    },
    "orig_nbformat": 4,
    "colab": {
      "provenance": []
    }
  },
  "nbformat": 4,
  "nbformat_minor": 0
}